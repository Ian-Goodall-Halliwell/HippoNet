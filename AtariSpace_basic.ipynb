{
 "cells": [
  {
   "cell_type": "markdown",
   "id": "0bc6cc61-582d-4f67-af4a-21e4c2840f08",
   "metadata": {},
   "source": [
    "# AtariSpace\n",
    "\n",
    "This task will not \"play\" atari but rather simply explore it. That is, there are no rewards, just a (nearly) passive viewing of the different games. The network can take actions within a game, or can cycle between the list of games, but is not rewarded by game score. Instead the network simply watches the games and tries to predict future frames. \n",
    "\n",
    "## VNet\n",
    "This \"visual\" network is simply an autoencoder. The bottleneck layer is treated as a latent variable (LV). It is convolutional with tied encoder-decoder weights. \n",
    "\n",
    "## HNet\n",
    "This \"hippocampal\" network takes in the current LV and tries to predict the next LV. This assumes that VNet is relatively constant (low learning rate or frozen). This should have a high LR, and use memory augmentation to preserve long-term dependencies.\n",
    "\n",
    "## MNet\n",
    "A small \"motor\"  network will be trained to maximize prediction errors as a method to encourage exploration. Prediction error is a positive scalar and there is an ideal \"Goldilocks zone\" for exploration which we approximate with an Erlang distribution.\n",
    "This could just be random actions, but if any useful exploration policies are learned then great. \n",
    "\n",
    "## Environment notes\n",
    "Any input from any game is allowed (0-17), and ideally MNet should learn which inputs are actually useful in a given game. Two more inputs will allow for cycling between games."
   ]
  },
  {
   "cell_type": "code",
   "execution_count": 1,
   "id": "28b090a1-6e54-48a1-85fd-d6c78481877b",
   "metadata": {
    "tags": []
   },
   "outputs": [
    {
     "name": "stderr",
     "output_type": "stream",
     "text": [
      "/export03/data/opt/venv/lib/python3.8/site-packages/tqdm/auto.py:22: TqdmWarning: IProgress not found. Please update jupyter and ipywidgets. See https://ipywidgets.readthedocs.io/en/stable/user_install.html\n",
      "  from .autonotebook import tqdm as notebook_tqdm\n"
     ]
    }
   ],
   "source": [
    "import gymnasium as gym\n",
    "import math\n",
    "import random, datetime, os, copy, time\n",
    "import numpy as np\n",
    "import matplotlib.pyplot as plt\n",
    "from IPython.display import clear_output\n",
    "\n",
    "import torch\n",
    "import torch.nn as nn\n",
    "import torch.optim as optim\n",
    "import torch.nn.functional as F\n",
    "import torchvision\n",
    "\n",
    "device = torch.device(\"cuda\" if torch.cuda.is_available() else \"cpu\")\n",
    "# device = \"cpu\""
   ]
  },
  {
   "cell_type": "code",
   "execution_count": 2,
   "id": "9097ae03-3d44-48b8-b2d0-933da194a0c4",
   "metadata": {},
   "outputs": [],
   "source": [
    "possible_actions = 17 # possible actions in all games (inc 0)\n",
    "games = ['ALE/Tetris-v5', 'ALE/Adventure-v5', 'ALE/AirRaid-v5', 'ALE/Alien-v5', 'ALE/Amidar-v5', 'ALE/Assault-v5', 'ALE/Asterix-v5', \n",
    "         'ALE/Asteroids-v5', 'ALE/Atlantis-v5', 'ALE/Atlantis2-v5', 'ALE/Backgammon-v5', 'ALE/BankHeist-v5', 'ALE/BasicMath-v5', \n",
    "         'ALE/BattleZone-v5', 'ALE/BeamRider-v5', 'ALE/Berzerk-v5', 'ALE/Blackjack-v5', 'ALE/Bowling-v5', 'ALE/Boxing-v5', 'ALE/Breakout-v5', \n",
    "         'ALE/Carnival-v5', 'ALE/Casino-v5', 'ALE/Centipede-v5', 'ALE/ChopperCommand-v5', 'ALE/CrazyClimber-v5', 'ALE/Crossbow-v5', \n",
    "         'ALE/Darkchambers-v5', 'ALE/Defender-v5', 'ALE/DemonAttack-v5', 'ALE/DonkeyKong-v5', 'ALE/DoubleDunk-v5', 'ALE/Earthworld-v5', \n",
    "         'ALE/ElevatorAction-v5', 'ALE/Enduro-v5', 'ALE/Entombed-v5', 'ALE/Et-v5', 'ALE/FishingDerby-v5', 'ALE/FlagCapture-v5', \n",
    "         'ALE/Freeway-v5', 'ALE/Frogger-v5', 'ALE/Frostbite-v5', 'ALE/Galaxian-v5', 'ALE/Gopher-v5', 'ALE/Gravitar-v5', 'ALE/Hangman-v5', \n",
    "         'ALE/HauntedHouse-v5', 'ALE/Hero-v5', 'ALE/HumanCannonball-v5', 'ALE/IceHockey-v5', 'ALE/Jamesbond-v5', 'ALE/JourneyEscape-v5', \n",
    "         'ALE/Kaboom-v5', 'ALE/Kangaroo-v5', 'ALE/KeystoneKapers-v5', 'ALE/KingKong-v5', 'ALE/Klax-v5', 'ALE/Koolaid-v5', 'ALE/Krull-v5', \n",
    "         'ALE/KungFuMaster-v5', 'ALE/LaserGates-v5', 'ALE/LostLuggage-v5', 'ALE/MarioBros-v5', 'ALE/MiniatureGolf-v5', 'ALE/MontezumaRevenge-v5', \n",
    "         'ALE/MrDo-v5', 'ALE/MsPacman-v5', 'ALE/NameThisGame-v5', 'ALE/Othello-v5', 'ALE/Pacman-v5', 'ALE/Phoenix-v5', 'ALE/Pitfall-v5', \n",
    "         'ALE/Pitfall2-v5', 'ALE/Pong-v5', 'ALE/Pooyan-v5', 'ALE/PrivateEye-v5', 'ALE/Qbert-v5', 'ALE/Riverraid-v5', 'ALE/RoadRunner-v5', \n",
    "         'ALE/Robotank-v5', 'ALE/Seaquest-v5', 'ALE/SirLancelot-v5', 'ALE/Skiing-v5', 'ALE/Solaris-v5', 'ALE/SpaceInvaders-v5', \n",
    "         'ALE/SpaceWar-v5', 'ALE/StarGunner-v5', 'ALE/Superman-v5', 'ALE/Surround-v5', 'ALE/Tennis-v5', \n",
    "         'ALE/TimePilot-v5', 'ALE/Trondead-v5', 'ALE/Turmoil-v5', 'ALE/Tutankham-v5', 'ALE/UpNDown-v5', 'ALE/Venture-v5', 'ALE/VideoCheckers-v5', \n",
    "         'ALE/VideoPinball-v5', 'ALE/WizardOfWor-v5', 'ALE/WordZapper-v5', 'ALE/YarsRevenge-v5', 'ALE/Zaxxon-v5']\n",
    "g=0\n",
    "def AtariSpace(action):\n",
    "    global env,g\n",
    "    if action==0:\n",
    "        g = g-1\n",
    "        if g<0:\n",
    "            g=len(games)-1\n",
    "        env = gym.make(games[g], obs_type='grayscale', \n",
    "                       render_mode='rgb_array', \n",
    "                       full_action_space=True)\n",
    "        frame = env.reset()[0]\n",
    "    elif action==1:\n",
    "        g = g+1\n",
    "        if g>len(games)-1:\n",
    "            g=0\n",
    "        env = gym.make(games[g], obs_type='grayscale', \n",
    "                       render_mode='rgb_array', \n",
    "                       full_action_space=True)\n",
    "        frame = env.reset()[0]\n",
    "    else:\n",
    "        frame = env.step(action-2)[0]\n",
    "    if np.max(frame)==0: # some games have a blank frame\n",
    "        frame = env.step(0)[0]\n",
    "    return frame"
   ]
  },
  {
   "cell_type": "code",
   "execution_count": 3,
   "id": "ed5778ea-813a-4946-8c6d-1c52d8fab6e1",
   "metadata": {},
   "outputs": [],
   "source": [
    "# utilities\n",
    "current_frame = torch.zeros((241,153)).to(device)\n",
    "def frameproc(frame):\n",
    "    global current_frame\n",
    "    # trim, resize to suit our convolutions, and standardize\n",
    "    # frame = frame[25:225,:]\n",
    "    frame = np.expand_dims(np.expand_dims(frame, 0), 0)\n",
    "    frame = torch.as_tensor(frame, dtype=torch.float32)\n",
    "    means = frame.mean()\n",
    "    stds = frame.std()\n",
    "    frame = (frame - means) / stds\n",
    "    frame = torchvision.transforms.Resize((241,153))(frame)\n",
    "    current_frame = frame.to(device)\n",
    "    return\n",
    "\n",
    "def live_plot(imgs):\n",
    "    clear_output(wait=True)\n",
    "    for p in range(len(imgs)):\n",
    "        plt.subplot(1,len(imgs),p+1)\n",
    "        if current_frame.dtype==torch.float32:\n",
    "            plt.imshow(torch.squeeze(imgs[p]).to('cpu').detach())\n",
    "        else:\n",
    "            plt.imshow(imgs[p])\n",
    "        plt.axis('off')\n",
    "    plt.show();"
   ]
  },
  {
   "cell_type": "code",
   "execution_count": 4,
   "id": "5b48d5a3-fc0e-4d7e-99f8-333aa1ef4177",
   "metadata": {
    "tags": []
   },
   "outputs": [],
   "source": [
    "# utility layers for nn.Sequential\n",
    "class GaussianNoise(nn.Module):\n",
    "    \"\"\"Gaussian noise regularizer.\n",
    "    https://discuss.pytorch.org/t/where-is-the-noise-layer-in-pytorch/2887/4\n",
    "    Args:\n",
    "        sigma (float, optional): relative standard deviation used to generate the\n",
    "            noise. Relative means that it will be multiplied by the magnitude of\n",
    "            the value your are adding the noise to. This means that sigma can be\n",
    "            the same regardless of the scale of the vector.\n",
    "        is_relative_detach (bool, optional): whether to detach the variable before\n",
    "            computing the scale of the noise. If `False` then the scale of the noise\n",
    "            won't be seen as a constant but something to optimize: this will bias the\n",
    "            network to generate vectors with smaller values.\n",
    "    \"\"\"\n",
    "\n",
    "    def __init__(self, sigma=0.5, is_relative_detach=True):\n",
    "        super().__init__()\n",
    "        self.sigma = sigma\n",
    "        self.is_relative_detach = is_relative_detach\n",
    "        self.noise = torch.tensor(0).to(device)\n",
    "\n",
    "    def forward(self, x):\n",
    "        if self.training and self.sigma != 0:\n",
    "            scale = self.sigma * x.detach() if self.is_relative_detach else self.sigma * x\n",
    "            sampled_noise = self.noise.repeat(*x.size()).float().normal_() * scale\n",
    "            x = x + sampled_noise\n",
    "        return x \n",
    "    \n",
    "class artanh(nn.Module):\n",
    "    def __init__(self):\n",
    "        super().__init__()\n",
    "    def forward(self,x):\n",
    "        return 0.5*(torch.log(1+x)/(1-x))"
   ]
  },
  {
   "cell_type": "code",
   "execution_count": 5,
   "id": "35e0bdef-0272-488e-8a14-982494c74b28",
   "metadata": {},
   "outputs": [
    {
     "data": {
      "image/png": "[encoded data removed]",
      "text/plain": [
       "<Figure size 432x288 with 1 Axes>"
      ]
     },
     "metadata": {
      "needs_background": "light"
     },
     "output_type": "display_data"
    },
    {
     "name": "stdout",
     "output_type": "stream",
     "text": [
      "torch.Size([1, 1, 241, 153])\n",
      "torch.Size([1, 1, 241, 153])\n"
     ]
    }
   ],
   "source": [
    "# Test out environment and utilities!\n",
    "for s in [1,1,2,1,1,1,0,0,0,2,0,0]:\n",
    "    frame = AtariSpace(s)\n",
    "    origshape = current_frame.shape\n",
    "    frameproc(frame)\n",
    "    live_plot([current_frame])\n",
    "    time.sleep(0.5)\n",
    "print(origshape)\n",
    "print(current_frame.shape)"
   ]
  },
  {
   "cell_type": "code",
   "execution_count": 6,
   "id": "29400acd-dbab-453e-9552-e7bba1ba8229",
   "metadata": {},
   "outputs": [
    {
     "name": "stdout",
     "output_type": "stream",
     "text": [
      "(119.0, 75.0)\n",
      "(59.0, 37.0)\n",
      "(29.0, 18.0)\n",
      "16704\n"
     ]
    }
   ],
   "source": [
    "# conv2d design testing\n",
    "# ideally out convolutions should work with the input image size to only produce integers here. This will help a lot in the ConvTranspose2d decoder!\n",
    "def conv_output_shape(h_w, kernel_size=1, stride=1, pad=0, dilation=1):\n",
    "    from math import floor\n",
    "    if type(kernel_size) is not tuple:\n",
    "        kernel_size = (kernel_size, kernel_size)\n",
    "    h = ((h_w[0] + (2 * pad) - ( dilation * (kernel_size[0] - 1) ) - 1 )/ stride) + 1\n",
    "    w = ((h_w[1] + (2 * pad) - ( dilation * (kernel_size[1] - 1) ) - 1 )/ stride) + 1\n",
    "    return h, w\n",
    "t1 = conv_output_shape(current_frame.shape[2:4],kernel_size=5, stride=2)\n",
    "t2 = conv_output_shape(t1,kernel_size=3, stride=2)\n",
    "t3 = conv_output_shape(t2,kernel_size=3, stride=2)\n",
    "print(t1)\n",
    "print(t2)\n",
    "print(t3)\n",
    "flatsz = int(np.prod(t3)*32)\n",
    "print(flatsz)"
   ]
  },
  {
   "cell_type": "code",
   "execution_count": 7,
   "id": "71efbc7e-5cff-4059-8058-33abba705f05",
   "metadata": {
    "tags": []
   },
   "outputs": [
    {
     "name": "stdout",
     "output_type": "stream",
     "text": [
      "VNet(\n",
      "  (encoder): Sequential(\n",
      "    (0): Conv2d(1, 16, kernel_size=(5, 5), stride=(2, 2))\n",
      "    (1): Tanh()\n",
      "    (2): Conv2d(16, 32, kernel_size=(3, 3), stride=(2, 2))\n",
      "    (3): Tanh()\n",
      "    (4): Conv2d(32, 32, kernel_size=(3, 3), stride=(2, 2))\n",
      "    (5): Tanh()\n",
      "    (6): Flatten(start_dim=1, end_dim=-1)\n",
      "    (7): Linear(in_features=16704, out_features=10000, bias=False)\n",
      "    (8): Tanh()\n",
      "    (9): Linear(in_features=10000, out_features=512, bias=False)\n",
      "  )\n",
      "  (decoder): Sequential(\n",
      "    (0): Linear(in_features=512, out_features=10000, bias=False)\n",
      "    (1): Tanh()\n",
      "    (2): Linear(in_features=10000, out_features=16704, bias=False)\n",
      "    (3): Tanh()\n",
      "    (4): Unflatten(dim=1, unflattened_size=(32, 29, 18))\n",
      "    (5): ConvTranspose2d(32, 32, kernel_size=(3, 3), stride=(2, 2))\n",
      "    (6): Tanh()\n",
      "    (7): ConvTranspose2d(32, 16, kernel_size=(3, 3), stride=(2, 2))\n",
      "    (8): Tanh()\n",
      "    (9): ConvTranspose2d(16, 1, kernel_size=(5, 5), stride=(2, 2))\n",
      "  )\n",
      "  (encoderfrozen): Sequential(\n",
      "    (0): Conv2d(1, 16, kernel_size=(5, 5), stride=(2, 2))\n",
      "    (1): Tanh()\n",
      "    (2): Conv2d(16, 32, kernel_size=(3, 3), stride=(2, 2))\n",
      "    (3): Tanh()\n",
      "    (4): Conv2d(32, 32, kernel_size=(3, 3), stride=(2, 2))\n",
      "    (5): Tanh()\n",
      "    (6): Flatten(start_dim=1, end_dim=-1)\n",
      "    (7): Linear(in_features=16704, out_features=10000, bias=False)\n",
      "    (8): Tanh()\n",
      "    (9): Linear(in_features=10000, out_features=512, bias=False)\n",
      "  )\n",
      "  (decoderfrozen): Sequential(\n",
      "    (0): Linear(in_features=512, out_features=10000, bias=False)\n",
      "    (1): Tanh()\n",
      "    (2): Linear(in_features=10000, out_features=16704, bias=False)\n",
      "    (3): Tanh()\n",
      "    (4): Unflatten(dim=1, unflattened_size=(32, 29, 18))\n",
      "    (5): ConvTranspose2d(32, 32, kernel_size=(3, 3), stride=(2, 2))\n",
      "    (6): Tanh()\n",
      "    (7): ConvTranspose2d(32, 16, kernel_size=(3, 3), stride=(2, 2))\n",
      "    (8): Tanh()\n",
      "    (9): ConvTranspose2d(16, 1, kernel_size=(5, 5), stride=(2, 2))\n",
      "  )\n",
      ")\n"
     ]
    }
   ],
   "source": [
    "class VNet(nn.Module):\n",
    "    #This will be a convolutional AE with tied encoder-decoder weights. Encoder can optionally be frozen.\n",
    "\n",
    "    def __init__(self, output_dim=(512)):\n",
    "        super().__init__()\n",
    "        self.encoder = nn.Sequential(\n",
    "            nn.Conv2d(in_channels=1, out_channels=16, kernel_size=5, stride=2),\n",
    "            nn.Tanh(),\n",
    "            nn.Conv2d(in_channels=16, out_channels=32, kernel_size=3, stride=2),\n",
    "            nn.Tanh(),\n",
    "            nn.Conv2d(in_channels=32, out_channels=32, kernel_size=3, stride=2),\n",
    "            nn.Tanh(),\n",
    "            nn.Flatten(),\n",
    "            nn.Linear(flatsz, 10000, bias=False),\n",
    "            nn.Tanh(),\n",
    "            nn.Linear(10000, output_dim, bias=False),\n",
    "        )\n",
    "        self.decoder = nn.Sequential(\n",
    "            nn.Linear(output_dim, 10000, bias=False),\n",
    "            nn.Tanh(),\n",
    "            nn.Linear(10000,flatsz,bias=False),\n",
    "            nn.Tanh(),\n",
    "            # nn.Unflatten(1,(1,241,153)),\n",
    "            nn.Unflatten(1,(32,int(t3[0]),int(t3[1]))),\n",
    "            nn.ConvTranspose2d(in_channels=32, out_channels=32, kernel_size=3, stride=2),\n",
    "            nn.Tanh(),\n",
    "            nn.ConvTranspose2d(in_channels=32, out_channels=16, kernel_size=3, stride=2),\n",
    "            nn.Tanh(),\n",
    "            nn.ConvTranspose2d(in_channels=16, out_channels=1, kernel_size=5, stride=2),\n",
    "        )\n",
    "            \n",
    "        # tie the weights\n",
    "        for i in range(len(self.encoder)):\n",
    "            ii = len(self.encoder)-i-1\n",
    "            if hasattr(self.encoder[i],'weight'):\n",
    "                if len(self.encoder[i].weight.shape)>2:\n",
    "                    self.decoder[ii].weight = nn.Parameter(self.encoder[i].weight)\n",
    "                else:\n",
    "                    self.decoder[ii].weight = nn.Parameter(self.encoder[i].weight.t())\n",
    "\n",
    "        # frozen versions\n",
    "        self.encoderfrozen = copy.deepcopy(self.encoder)\n",
    "        for p in self.encoderfrozen.parameters():\n",
    "            p.requires_grad = False\n",
    "        self.decoderfrozen = copy.deepcopy(self.decoder)\n",
    "        for p in self.decoderfrozen.parameters():\n",
    "            p.requires_grad = False\n",
    "\n",
    "    def forward(self, input, model):\n",
    "        if model == \"online\":\n",
    "            return self.encoder(input)\n",
    "        elif model == \"frozen\":\n",
    "            return self.encoderfrozen(input)\n",
    "        \n",
    "    def backward(self, input, model):\n",
    "        if model == \"online\":\n",
    "            return self.decoder(input)\n",
    "        elif model == \"frozen\":\n",
    "            return self.decoderfrozen(input)\n",
    "vnet = VNet().to(device)\n",
    "print(vnet)"
   ]
  },
  {
   "cell_type": "code",
   "execution_count": 8,
   "id": "d32646be-e3d4-4b6e-9eba-ed60aed45641",
   "metadata": {},
   "outputs": [],
   "source": [
    "VLoss = nn.MSELoss()\n",
    "VOptim = optim.Adam(vnet.parameters(), lr=0.0001, weight_decay=1e-05)"
   ]
  },
  {
   "cell_type": "code",
   "execution_count": 9,
   "id": "bc874347-280f-4308-b950-57518b159c38",
   "metadata": {},
   "outputs": [
    {
     "data": {
      "text/plain": [
       "<All keys matched successfully>"
      ]
     },
     "execution_count": 9,
     "metadata": {},
     "output_type": "execute_result"
    }
   ],
   "source": [
    "vnet.load_state_dict(torch.load('VNet_saved'))"
   ]
  },
  {
   "cell_type": "code",
   "execution_count": 10,
   "id": "8dc95c7e-86a7-427d-a902-bbd4c7e23559",
   "metadata": {},
   "outputs": [],
   "source": [
    "# quick test / pretrain of VNet\n",
    "\n",
    "# log = []\n",
    "# for i in range(100000):\n",
    "#     frame = AtariSpace(1+possible_actions)\n",
    "#     frameproc(frame)\n",
    "\n",
    "#     next_LV = vnet.forward(current_frame, model='online')\n",
    "#     recon_frame = vnet.backward(next_LV, model='online')\n",
    "\n",
    "#     vloss = VLoss(recon_frame,current_frame)\n",
    "#     log.append([vloss.to('cpu').detach()])\n",
    "#     VOptim.zero_grad()\n",
    "#     vloss.backward()\n",
    "#     VOptim.step()\n",
    "    \n",
    "#     if i%100==0:\n",
    "#         live_plot([current_frame,recon_frame.detach()])\n",
    "#         print(f'iteration: {i}')\n",
    "        \n",
    "#     del next_LV,recon_frame,vloss,frame\n",
    "    \n",
    "# torch.save(vnet.state_dict(),'VNet_saved')"
   ]
  },
  {
   "cell_type": "code",
   "execution_count": 11,
   "id": "6a5ead0d-08c8-47d9-9eab-de5ee74bf714",
   "metadata": {},
   "outputs": [
    {
     "name": "stdout",
     "output_type": "stream",
     "text": [
      "HNet(\n",
      "  (online): Sequential(\n",
      "    (0): Linear(in_features=515, out_features=512, bias=True)\n",
      "    (1): Tanh()\n",
      "    (2): Linear(in_features=512, out_features=512, bias=True)\n",
      "  )\n",
      "  (frozen): Sequential(\n",
      "    (0): Linear(in_features=515, out_features=512, bias=True)\n",
      "    (1): Tanh()\n",
      "    (2): Linear(in_features=512, out_features=512, bias=True)\n",
      "  )\n",
      ")\n"
     ]
    }
   ],
   "source": [
    "class HNet(nn.Module):\n",
    "    # currently just fully connected (but high LR)\n",
    "    \n",
    "    def __init__(self, input_dim=(512+3), output_dim=(512)):\n",
    "        super().__init__()\n",
    "        self.online = nn.Sequential(\n",
    "            nn.Linear(input_dim, 512),\n",
    "            nn.Tanh(),\n",
    "            nn.Linear(512, output_dim),\n",
    "        )\n",
    "\n",
    "        self.frozen = copy.deepcopy(self.online)\n",
    "        for p in self.frozen.parameters():\n",
    "            p.requires_grad = False\n",
    "\n",
    "    def forward(self, input, model):\n",
    "        if model == \"online\":\n",
    "            return self.online(input)\n",
    "        elif model == \"frozen\":\n",
    "            return self.frozen(input)\n",
    "        \n",
    "hnet = HNet().to(device)\n",
    "print(hnet)"
   ]
  },
  {
   "cell_type": "code",
   "execution_count": 12,
   "id": "2b26a45a-8284-4db6-9de3-6b8d9a8a5e16",
   "metadata": {},
   "outputs": [],
   "source": [
    "HLoss = nn.MSELoss()\n",
    "HOptim = optim.SGD(hnet.parameters(),lr=0.1, weight_decay=1e-05)"
   ]
  },
  {
   "cell_type": "code",
   "execution_count": 13,
   "id": "75f32c00-7b08-4dff-b57d-6a9c43cc69fa",
   "metadata": {},
   "outputs": [
    {
     "name": "stdout",
     "output_type": "stream",
     "text": [
      "MNet(\n",
      "  (online): Sequential(\n",
      "    (0): Linear(in_features=512, out_features=512, bias=True)\n",
      "    (1): Linear(in_features=512, out_features=3, bias=True)\n",
      "    (2): GaussianNoise()\n",
      "    (3): Softmax(dim=1)\n",
      "  )\n",
      "  (frozen): Sequential(\n",
      "    (0): Linear(in_features=512, out_features=512, bias=True)\n",
      "    (1): Linear(in_features=512, out_features=3, bias=True)\n",
      "    (2): GaussianNoise()\n",
      "    (3): Softmax(dim=1)\n",
      "  )\n",
      ")\n"
     ]
    }
   ],
   "source": [
    "class MNet(nn.Module):\n",
    "    # simple fully connected with softmax at the end; optionally frozen\n",
    "    \n",
    "    def __init__(self, input_dim=(512), output_dim=(3)):\n",
    "        super().__init__()\n",
    "        self.online = nn.Sequential(\n",
    "            nn.Linear(input_dim, 512),\n",
    "            #nn.Tanh(),\n",
    "            nn.Linear(512, output_dim),\n",
    "            GaussianNoise(),\n",
    "            nn.Softmax(dim=1),\n",
    "        )\n",
    "\n",
    "        self.frozen = copy.deepcopy(self.online)\n",
    "        for p in self.frozen.parameters():\n",
    "            p.requires_grad = False\n",
    "\n",
    "    def forward(self, input, model):\n",
    "        if model == \"online\":\n",
    "            return self.online(input)\n",
    "        elif model == \"frozen\":\n",
    "            return self.frozen(input)\n",
    "        \n",
    "mnet = MNet().to(device)\n",
    "print(mnet)"
   ]
  },
  {
   "cell_type": "code",
   "execution_count": 16,
   "id": "b80d4b4c-74d0-4c02-809f-4c377b93eb62",
   "metadata": {},
   "outputs": [
    {
     "data": {
      "image/png": "[encoded data removed]",
      "text/plain": [
       "<Figure size 432x288 with 1 Axes>"
      ]
     },
     "metadata": {
      "needs_background": "light"
     },
     "output_type": "display_data"
    }
   ],
   "source": [
    "m=0\n",
    "def erlang(x,k=2,l=2):\n",
    "    return ((l**k)*(x**(k-1))*(math.e**(-l*x)))/math.factorial(k-1)*2 -1\n",
    "def MLoss(action,x):\n",
    "    global m\n",
    "    mloss = torch.sum(action)*(erlang(x-m)) # note action sums to 1\n",
    "    m = m+(0.01*mloss.detach()) # \"sticky\" running average so we know if x was good relative to its temporal nieghbours\n",
    "    return mloss\n",
    "x = np.linspace(0,5,num=50)\n",
    "plt.plot(x,erlang(x))\n",
    "plt.title(\"Goldilocks novelty zone\")\n",
    "plt.xlabel(\"novelty (prediction error)\")\n",
    "plt.ylabel(\"motor policy loss\")\n",
    "\n",
    "MOptim = optim.SGD(mnet.parameters(), lr=0.001, weight_decay=0)"
   ]
  },
  {
   "cell_type": "code",
   "execution_count": 17,
   "id": "5103ba87-ce39-42f6-9626-8833bec6845a",
   "metadata": {},
   "outputs": [
    {
     "data": {
      "image/png": "[encoded data removed]",
      "text/plain": [
       "<Figure size 432x288 with 4 Axes>"
      ]
     },
     "metadata": {
      "needs_background": "light"
     },
     "output_type": "display_data"
    },
    {
     "name": "stdout",
     "output_type": "stream",
     "text": [
      "9900\n",
      "1011.9488158226013\n"
     ]
    }
   ],
   "source": [
    "# initialize state\n",
    "frame = AtariSpace(19)\n",
    "frameproc(frame)\n",
    "current_LV = vnet.forward(current_frame, model='frozen')\n",
    "\n",
    "# the complicated part.\n",
    "# 0) reconstruct the frame from the current LV (just for viewing)\n",
    "# 1a) choose next action from the current LV\n",
    "# 1b) make a prediction from the current LV about the next LV\n",
    "# 1c) reconstruct the next frame from the predicted LV\n",
    "# 2) take the action and get the actual next frame+LV\n",
    "# 3a) train VNet to reconstruct the current frame from the current LV\n",
    "# 3b) train HNet to predict next LV from the current LV\n",
    "# 3c) train MNet to maximize HLoss\n",
    "log = []\n",
    "t = time.time()\n",
    "for i in range(10000):\n",
    "    \n",
    "    current_action = mnet.forward(current_LV.detach(), model='online')\n",
    "    predicted_LV = hnet.forward(torch.cat((current_LV.detach(),\n",
    "                                           current_action.detach()),dim=1),model='online')\n",
    "    recon_frame = vnet.backward(current_LV.detach(), model='online')\n",
    "    predicted_frame = vnet.backward(predicted_LV.detach(), model='online')\n",
    "    \n",
    "    vloss = VLoss(recon_frame,current_frame)\n",
    "    VOptim.zero_grad()\n",
    "    vloss.backward()\n",
    "    VOptim.step()\n",
    "    \n",
    "    old_frame = copy.deepcopy(current_frame.detach())\n",
    "    a = np.argmax(current_action.to('cpu').detach())\n",
    "    frame = AtariSpace(a)\n",
    "    #frame = AtariSpace(19) # just cycle through\n",
    "    frameproc(frame)\n",
    "    next_LV = vnet.forward(current_frame.detach(), model='online')\n",
    "    if i%100==0:\n",
    "        live_plot([old_frame,recon_frame,current_frame,predicted_frame])\n",
    "        print(i)\n",
    "   \n",
    "    hloss = HLoss(predicted_LV,next_LV.detach())\n",
    "    HOptim.zero_grad()\n",
    "    hloss.backward()\n",
    "    HOptim.step()\n",
    "    mloss = -MLoss(current_action,hloss.detach()/512)\n",
    "    MOptim.zero_grad()\n",
    "    mloss.backward()\n",
    "    MOptim.step()\n",
    "    \n",
    "    log.append([vloss.to('cpu').detach(), hloss.to('cpu').detach(), mloss.to('cpu').detach(), g])\n",
    "    current_LV = next_LV\n",
    "    del predicted_LV, recon_frame, predicted_frame, next_LV, hloss, vloss, mloss\n",
    "\n",
    "elapsed = time.time() - t\n",
    "print(elapsed)"
   ]
  },
  {
   "cell_type": "code",
   "execution_count": 23,
   "id": "462e0b2b-b3a5-43ae-9d02-517fb0edc65c",
   "metadata": {},
   "outputs": [
    {
     "data": {
      "text/plain": [
       "<matplotlib.collections.PathCollection at 0x7f5439823880>"
      ]
     },
     "execution_count": 23,
     "metadata": {},
     "output_type": "execute_result"
    },
    {
     "data": {
      "image/png": "[encoded data removed]",
      "text/plain": [
       "<Figure size 1280x320 with 4 Axes>"
      ]
     },
     "metadata": {
      "needs_background": "light"
     },
     "output_type": "display_data"
    }
   ],
   "source": [
    "plt.figure(figsize=(16, 4), dpi=80)\n",
    "log = np.asarray(log)\n",
    "plt.subplot(1,4,1)\n",
    "plt.plot(np.convolve(np.array(log)[:,0],np.ones(100)/100, mode='valid'))\n",
    "plt.subplot(1,4,2)\n",
    "plt.plot(np.convolve(np.array(log)[:,1],np.ones(100)/100, mode='valid'))\n",
    "plt.subplot(1,4,3)\n",
    "plt.plot(np.convolve(np.array(log)[:,2],np.ones(100)/100, mode='valid'))\n",
    "plt.subplot(1,4,4)\n",
    "plt.scatter(range(len(log)),log[:,3])"
   ]
  },
  {
   "cell_type": "code",
   "execution_count": 21,
   "id": "18f27ec2-3068-4d04-a3dd-3e5d31d4e686",
   "metadata": {},
   "outputs": [
    {
     "data": {
      "image/png": "[encoded data removed]",
      "text/plain": [
       "<Figure size 432x288 with 1 Axes>"
      ]
     },
     "metadata": {
      "needs_background": "light"
     },
     "output_type": "display_data"
    }
   ],
   "source": [
    "plt.hist(log[:,3], bins=len(games));"
   ]
  },
  {
   "cell_type": "code",
   "execution_count": null,
   "id": "3b1f3d48-bf42-4f42-86e5-d3dd948883da",
   "metadata": {},
   "outputs": [],
   "source": []
  }
 ],
 "metadata": {
  "kernelspec": {
   "display_name": "Python 3 (ipykernel)",
   "language": "python",
   "name": "python3"
  },
  "language_info": {
   "codemirror_mode": {
    "name": "ipython",
    "version": 3
   },
   "file_extension": ".py",
   "mimetype": "text/x-python",
   "name": "python",
   "nbconvert_exporter": "python",
   "pygments_lexer": "ipython3",
   "version": "3.8.0"
  }
 },
 "nbformat": 4,
 "nbformat_minor": 5
}
